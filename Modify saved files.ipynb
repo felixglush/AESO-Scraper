{
 "cells": [
  {
   "cell_type": "code",
   "execution_count": 23,
   "metadata": {},
   "outputs": [],
   "source": [
    "import pandas as pd\n",
    "import os\n",
    "from datetime import datetime, timedelta"
   ]
  },
  {
   "cell_type": "markdown",
   "metadata": {
    "pycharm": {
     "name": "#%% md\n"
    }
   },
   "source": [
    "Just me testing, not required for running the project."
   ]
  },
  {
   "cell_type": "code",
   "execution_count": 24,
   "metadata": {},
   "outputs": [],
   "source": [
    "for file in os.listdir('transformed_reports/'):\n",
    "    f_pd = pd.read_csv('transformed_reports/' + file, index_col = False)\n",
    "    f_pd['Last Updated'] = (datetime.today() - timedelta(days=3)).strftime('%Y-%m-%d')\n",
    "    f_pd.to_csv(f'transformed_reports/{file}', index=False)\n",
    "    "
   ]
  },
  {
   "cell_type": "code",
   "execution_count": 25,
   "metadata": {},
   "outputs": [],
   "source": [
    "f = pd.read_csv('transformed_reports/June 08, 2021.csv', index_col = False)\n",
    "f['Last Updated'] = (datetime.today() - timedelta(days=1)).strftime('%Y-%m-%d')\n",
    "f.to_csv(f'transformed_reports/June 08, 2021.csv', index=False)\n",
    "\n",
    "f = pd.read_csv('transformed_reports/June 07, 2021.csv', index_col = False)\n",
    "f['Last Updated'] = (datetime.today() - timedelta(days=2)).strftime('%Y-%m-%d')\n",
    "f.to_csv(f'transformed_reports/June 07, 2021.csv', index=False)"
   ]
  },
  {
   "cell_type": "code",
   "execution_count": null,
   "metadata": {},
   "outputs": [],
   "source": []
  }
 ],
 "metadata": {
  "kernelspec": {
   "display_name": "Python (transalta)",
   "language": "python",
   "name": "transalta"
  },
  "language_info": {
   "codemirror_mode": {
    "name": "ipython",
    "version": 3
   },
   "file_extension": ".py",
   "mimetype": "text/x-python",
   "name": "python",
   "nbconvert_exporter": "python",
   "pygments_lexer": "ipython3",
   "version": "3.8.8"
  }
 },
 "nbformat": 4,
 "nbformat_minor": 4
}